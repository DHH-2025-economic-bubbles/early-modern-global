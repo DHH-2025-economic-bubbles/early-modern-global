{
 "cells": [
  {
   "cell_type": "markdown",
   "id": "f8920c8d",
   "metadata": {},
   "source": [
    "# Early-modern-global\n",
    "This notebook is the polished, clear version of all the code present in the source directory. The data processing pipeline consists of these phases:\n",
    "\n",
    "- Setup:\n",
    "    - UV\n",
    "    - Download data\n",
    "\n",
    "- Preprocessing:\n",
    "\n",
    "- whatever\n",
    "\n",
    "- :DDDD"
   ]
  },
  {
   "cell_type": "markdown",
   "id": "756136e8",
   "metadata": {},
   "source": [
    "## Setup\n",
    "To run the code, you need to have all the data required for the project inside the `data`. Further, your environment needs to be set up in a compatible way. This phase consists of two steps:\n",
    "- Install UV and sync it. The instructions for this are in the README.md.\n",
    "- Download the data using the snipped below"
   ]
  },
  {
   "cell_type": "code",
   "execution_count": null,
   "id": "c0b7e119",
   "metadata": {},
   "outputs": [
    {
     "name": "stdout",
     "output_type": "stream",
     "text": [
      "Usage: scripts/get_data.sh <file1> <file2> ...\n"
     ]
    }
   ],
   "source": [
    "# click here to download relevant data. This may take a _while_\n",
    "!bash scripts/get_data.sh bl_newspapers_meta.txt json_res.tar"
   ]
  },
  {
   "cell_type": "markdown",
   "id": "a2b8b5d4",
   "metadata": {},
   "source": [
    "## Preprocessing!\n",
    "\n",
    "Let's first preprocess our data."
   ]
  }
 ],
 "metadata": {
  "kernelspec": {
   "display_name": ".venv",
   "language": "python",
   "name": "python3"
  },
  "language_info": {
   "codemirror_mode": {
    "name": "ipython",
    "version": 3
   },
   "file_extension": ".py",
   "mimetype": "text/x-python",
   "name": "python",
   "nbconvert_exporter": "python",
   "pygments_lexer": "ipython3",
   "version": "3.12.10"
  }
 },
 "nbformat": 4,
 "nbformat_minor": 5
}
