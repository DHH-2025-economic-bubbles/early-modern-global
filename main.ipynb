{
 "cells": [
  {
   "cell_type": "markdown",
   "id": "f8920c8d",
   "metadata": {},
   "source": [
    "# Early-modern-global\n",
    "This notebook is the polished, clear version of all the code present in the source directory. The data processing pipeline consists of these phases:\n",
    "\n",
    "- Setup:\n",
    "    - Download data\n",
    "\n",
    "- Preprocessing:\n",
    "\n",
    "- whatever\n",
    "\n",
    "- :DDDD"
   ]
  },
  {
   "cell_type": "markdown",
   "id": "a2b8b5d4",
   "metadata": {},
   "source": [
    "## Preprocessing!\n",
    "\n",
    "Let's first preprocess our data"
   ]
  }
 ],
 "metadata": {
  "language_info": {
   "name": "python"
  }
 },
 "nbformat": 4,
 "nbformat_minor": 5
}
