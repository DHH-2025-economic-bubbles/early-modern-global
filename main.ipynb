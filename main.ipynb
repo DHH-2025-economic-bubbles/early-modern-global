{
 "cells": [
  {
   "cell_type": "markdown",
   "id": "f8920c8d",
   "metadata": {},
   "source": [
    "# Early-modern-global\n",
    "This notebook is the polished, clear version of all the code present in the source directory. The data processing pipeline consists of these phases:\n",
    "\n",
    "- Setup:\n",
    "    - we use UV for enviroment control\n",
    "    - Download data\n",
    "\n",
    "- Preprocessing: correct spelling, join hypen-separated words, and segment articles into paragraphs\n",
    "\n",
    "After the data processing pipeline, we can proceed to answer the following questions:\n",
    "\n",
    "- Famous Figures Exploration: extract famous individuals from newspaper. Who are they? How are they related?\n",
    "\n",
    "-\n",
    "\n",
    "-"
   ]
  },
  {
   "cell_type": "markdown",
   "id": "756136e8",
   "metadata": {},
   "source": [
    "## Setup\n",
    "To run the code, you need to have all the data required for the project inside the `data`. Further, your environment needs to be set up in a compatible way. This phase consists of two steps:\n",
    "- Install UV and sync it. The instructions for this are in the README.md.\n",
    "- Download the data using the snipped below"
   ]
  },
  {
   "cell_type": "code",
   "execution_count": 6,
   "id": "c0b7e119",
   "metadata": {},
   "outputs": [
    {
     "name": "stderr",
     "output_type": "stream",
     "text": [
      "'bash' �����ڲ����ⲿ���Ҳ���ǿ����еĳ���\n",
      "���������ļ���\n"
     ]
    }
   ],
   "source": [
    "# click here to download relevant data. This may take a _while_\n",
    "!bash scripts/get_data.sh bl_newspapers_meta.txt json_res.tar"
   ]
  },
  {
   "cell_type": "markdown",
   "id": "a2b8b5d4",
   "metadata": {},
   "source": [
    "## Preprocessing!\n",
    "\n",
    "Let's first preprocess our data. This process correct spelling, join hypen-separated words, and segment articles into paragraphs"
   ]
  },
  {
   "cell_type": "markdown",
   "id": "45884070",
   "metadata": {},
   "source": [
    "!python -m src.preprocessing.clean_dataset"
   ]
  },
  {
   "cell_type": "markdown",
   "id": "c04db58b",
   "metadata": {},
   "source": [
    "## Famous Figures Exploration\n",
    "Extract famous individuals from newspaper. Who are they? How are they related?"
   ]
  },
  {
   "cell_type": "markdown",
   "id": "996e2d17",
   "metadata": {},
   "source": [
    "### Article Extraction Based on Keywords\n",
    "Using pre-defined lists of goods and locations associated with colonial trade, we extract articles that contain at least one keyword. These articles are saved along with their metadata"
   ]
  },
  {
   "cell_type": "code",
   "execution_count": null,
   "id": "3ffe07d9",
   "metadata": {},
   "outputs": [],
   "source": [
    "!python -m src.preprocessing.detect_words"
   ]
  },
  {
   "cell_type": "markdown",
   "id": "44bee504",
   "metadata": {},
   "source": [
    "### Article Filtering Based on Country\n",
    "From the articles extracted in the previous step, we further filter them by identifying country mentions within the text"
   ]
  },
  {
   "cell_type": "code",
   "execution_count": null,
   "id": "f41063e8",
   "metadata": {},
   "outputs": [],
   "source": [
    "python -m src.preprocessing.detect_words"
   ]
  },
  {
   "cell_type": "markdown",
   "id": "56724939",
   "metadata": {},
   "source": [
    "### Famous Figures Extraction\n",
    "We can then perform Named Entity Recognition (NER) to extract mentions of historically significant individuals related to each country"
   ]
  },
  {
   "cell_type": "code",
   "execution_count": null,
   "id": "74faab86",
   "metadata": {},
   "outputs": [],
   "source": [
    "python -m src.preprocessing.ner"
   ]
  }
 ],
 "metadata": {
  "kernelspec": {
   "display_name": ".venv",
   "language": "python",
   "name": "python3"
  },
  "language_info": {
   "codemirror_mode": {
    "name": "ipython",
    "version": 3
   },
   "file_extension": ".py",
   "mimetype": "text/x-python",
   "name": "python",
   "nbconvert_exporter": "python",
   "pygments_lexer": "ipython3",
   "version": "3.13.3"
  }
 },
 "nbformat": 4,
 "nbformat_minor": 5
}
